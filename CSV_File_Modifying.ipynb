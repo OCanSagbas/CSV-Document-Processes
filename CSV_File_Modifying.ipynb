{
  "nbformat": 4,
  "nbformat_minor": 0,
  "metadata": {
    "colab": {
      "provenance": [],
      "authorship_tag": "ABX9TyO6v2nJcBpJRiBrfqzrM50r",
      "include_colab_link": true
    },
    "kernelspec": {
      "name": "python3",
      "display_name": "Python 3"
    },
    "language_info": {
      "name": "python"
    }
  },
  "cells": [
    {
      "cell_type": "markdown",
      "metadata": {
        "id": "view-in-github",
        "colab_type": "text"
      },
      "source": [
        "<a href=\"https://colab.research.google.com/github/OCanSagbas/CSV-Document-Processes/blob/main/CSV_File_Modifying.ipynb\" target=\"_parent\"><img src=\"https://colab.research.google.com/assets/colab-badge.svg\" alt=\"Open In Colab\"/></a>"
      ]
    },
    {
      "cell_type": "code",
      "execution_count": null,
      "metadata": {
        "id": "d7EGPb4ZNWVP"
      },
      "outputs": [],
      "source": [
        "import pandas as pd\n",
        "file_path = '/content/goodreads-export.csv'\n",
        "goodreads_data = pd.read_csv(file_path)\n",
        "goodreads_data.head(10)\n",
        "#Panda kütüphanesini indirdikten sonra Google Collab içinden csv dosyasını okuma ve ilk 10 satırını yazdırma işlemi."
      ]
    },
    {
      "cell_type": "code",
      "source": [
        "columns_to_remove = ['Spoiler', 'Private Notes', 'Recommended For', 'Recommended By', 'Original Purchase Date', 'Original Purchase Location', 'BCID', 'ISBN13']\n",
        "goodreads_data = goodreads_data.drop(columns=columns_to_remove)\n",
        "goodreads_data.head(10)\n",
        "#Columns_to_remove variable'ında yazan sütunları kaldırma işlemi."
      ],
      "metadata": {
        "id": "jtwEG1RvT03l"
      },
      "execution_count": null,
      "outputs": []
    },
    {
      "cell_type": "code",
      "source": [
        "goodreads_data = goodreads_data.set_index('Book Id')\n",
        "goodreads_data.head(10)\n",
        "#Book Id sütununu index olarak ayarlama işlemi."
      ],
      "metadata": {
        "id": "98Xf81tgUNN5"
      },
      "execution_count": null,
      "outputs": []
    },
    {
      "cell_type": "code",
      "source": [
        "import re\n",
        "def fix_name(column):\n",
        "    new_string = \"\"\n",
        "    for element in column:\n",
        "        pattern = re.compile(r\"[A-Za-z., ]\")\n",
        "        match = re.search(pattern, element)\n",
        "        if match:\n",
        "            new_string += element\n",
        "        else:\n",
        "            continue\n",
        "    return new_string\n",
        "\n",
        "def new_name(input_value):\n",
        "    values = input_value.split(\",\")\n",
        "    surnames = values[0]\n",
        "    names = values[1]\n",
        "\n",
        "    # Kısaltılmış isimleri tutacak bir liste oluştur\n",
        "    shortened_names_list = []\n",
        "\n",
        "    # İsimlerin içindeki her kelimeyi dolaş ve kısaltılmış ismi oluştur\n",
        "    pattern = re.compile(r\"[A-Za-z.]+\")\n",
        "    for match in pattern.finditer(names):\n",
        "        start, end = match.span()\n",
        "        word = names[start:end]\n",
        "        shortened_names_list.append(word[0].upper() + \".\")\n",
        "\n",
        "    # Kısaltılmış isimleri birleştir ve soyadı ekleyerek sonucu döndür\n",
        "    shortened_names = \" \".join(shortened_names_list) + \" \" + surnames\n",
        "    return shortened_names\n",
        "\n",
        "\n",
        "goodreads_data[\"Author l-f\"] =  goodreads_data[\"Author l-f\"].apply(fix_name)\n",
        "goodreads_data[\"Author l-f\"] =  goodreads_data[\"Author l-f\"].apply(new_name)\n",
        "goodreads_data.head(10)\n"
      ],
      "metadata": {
        "id": "iB2ZrVEZVAeZ"
      },
      "execution_count": null,
      "outputs": []
    },
    {
      "cell_type": "code",
      "source": [
        "# Final sorusu 5\n",
        "def additional_authors(authors):\n",
        "    if pd.notna(authors):\n",
        "        formatted_authors = []\n",
        "        for name in authors.split(','):\n",
        "            parts = name.strip().split()\n",
        "            if len(parts) > 1:\n",
        "                formatted_name = f'{parts[0][0]}. {\" \".join(parts[1:])}'\n",
        "                formatted_authors.append(formatted_name)\n",
        "            else:\n",
        "                formatted_authors.append(name)\n",
        "        return ', '.join(formatted_authors)\n",
        "    return authors\n",
        "#Michael LeBoeuf, Mel Lindauer -> M. LeBoeuf, M. Lindauer\n",
        "goodreads_data['Additional Authors'] = goodreads_data['Additional Authors'].apply(additional_authors)\n",
        "goodreads_data.head(10)\n"
      ],
      "metadata": {
        "id": "xoRoVao5buhg"
      },
      "execution_count": null,
      "outputs": []
    },
    {
      "cell_type": "code",
      "source": [
        "goodreads_data['Author'] = goodreads_data[['Author l-f', 'Additional Authors']].apply(lambda x: ', '.join(filter(lambda y: pd.notna(y), x)), axis=1)\n",
        "# \"Author l-f\" ve \"Additional Authors\" sütunlarını birleştirip \"Author\" sütununa yerleştirme işlemi\n",
        "goodreads_data = goodreads_data.drop(['Author l-f', 'Additional Authors'], axis=1)\n",
        "# \"Author l-f\" ve \"Additional Authors\" sütunlarını silme işlemi\n",
        "goodreads_data.head(10)"
      ],
      "metadata": {
        "id": "ZCsTMNPZcJ_P"
      },
      "execution_count": null,
      "outputs": []
    },
    {
      "cell_type": "code",
      "source": [
        "\n",
        "goodreads_data['ISBN'].fillna(0, inplace=True)\n",
        "goodreads_data['Number of Pages'].fillna(0, inplace=True)\n",
        "# ISBN ve Number of Pages sütunlarındaki eksik değerlere 0 atama işlemi\n",
        "goodreads_data.head(10)\n"
      ],
      "metadata": {
        "id": "8JK016P4c1UU"
      },
      "execution_count": null,
      "outputs": []
    },
    {
      "cell_type": "code",
      "source": [
        "# Eğer Original Publication Year değeri boş değilse, Year Published'i Original Publication Year ile değiştirme işlemi\n",
        "goodreads_data.loc[goodreads_data['Original Publication Year'].notnull(), 'Year Published'] = goodreads_data['Original Publication Year']\n",
        "goodreads_data.head(10)"
      ],
      "metadata": {
        "id": "xLEJWzCWdDjD"
      },
      "execution_count": null,
      "outputs": []
    },
    {
      "cell_type": "code",
      "source": [
        "# Bookshelves with positions sütununu düzenle\n",
        "def extract_positions(value):\n",
        "    matches = re.findall(r'#(\\d+)', str(value))\n",
        "    if matches:\n",
        "        return ','.join(matches)\n",
        "    return ''\n",
        "goodreads_data['Bookshelves with positions'] = goodreads_data['Bookshelves with positions'].apply(extract_positions)\n",
        "goodreads_data.head(50)\n"
      ],
      "metadata": {
        "id": "smCaYgdleSSn"
      },
      "execution_count": null,
      "outputs": []
    },
    {
      "cell_type": "code",
      "source": [
        "# Tarih formatını yıla dönüştür\n",
        "def extract_year(date):\n",
        "    try:\n",
        "        return pd.to_datetime(date, errors='coerce').year\n",
        "    except:\n",
        "        return date\n",
        "\n",
        "# Date Read ve Date Added sütunlarını düzenle\n",
        "goodreads_data['Date Read'] = goodreads_data['Date Read'].apply(extract_year)\n",
        "goodreads_data['Date Added'] = goodreads_data['Date Added'].apply(extract_year)\n",
        "\n",
        "# Veriyi kontrol etmek için ilk 10 satırı göster\n",
        "goodreads_data.head(10)\n"
      ],
      "metadata": {
        "id": "ebcx72-eem8W"
      },
      "execution_count": null,
      "outputs": []
    },
    {
      "cell_type": "code",
      "source": [
        "# Quickness sütununu oluştur\n",
        "goodreads_data['Quickness'] = (goodreads_data['Date Read'] == goodreads_data['Date Added']).astype(int)\n",
        "\n",
        "# Veriyi kontrol etmek için ilk 10 satırı göster\n",
        "goodreads_data.head(10)\n",
        "\n"
      ],
      "metadata": {
        "id": "Q9Bb2UO-e211"
      },
      "execution_count": null,
      "outputs": []
    },
    {
      "cell_type": "code",
      "source": [
        "import string\n",
        "import numpy as np\n",
        "\n",
        "# My Review sütunundaki metinlerin kelime sayısını güncelle\n",
        "def count_words(review):\n",
        "    # NaN kontrolü ekleyerek\n",
        "    if isinstance(review, str):\n",
        "        # Noktalama işaretlerini kaldır\n",
        "        review = review.translate(str.maketrans('', '', string.punctuation))\n",
        "        # Boşluklardan böl ve kelime sayısını döndür\n",
        "        return len(review.split())\n",
        "    else:\n",
        "        return np.nan  # NaN değeri varsa NaN olarak bırak\n",
        "\n",
        "# My Review sütununu güncelle\n",
        "goodreads_data['My Review'] = goodreads_data['My Review'].apply(count_words)\n",
        "\n",
        "# Sonuçları göster\n",
        "goodreads_data.head(30)\n"
      ],
      "metadata": {
        "id": "nLHZUwkjgoUf"
      },
      "execution_count": null,
      "outputs": []
    },
    {
      "cell_type": "code",
      "source": [
        "import matplotlib.pyplot as plt\n",
        "\n",
        "# Bookshelves sütunundaki dolu değerleri filtrele\n",
        "non_empty_bookshelves = goodreads_data['Bookshelves'].dropna()\n",
        "\n",
        "# Dolu değerlerin yüzdelerini hesapla\n",
        "shelf_percentages = non_empty_bookshelves.value_counts(normalize=True) * 100\n",
        "\n",
        "# Pie Chart oluştur\n",
        "plt.figure(figsize=(10, 8))\n",
        "plt.pie(shelf_percentages, labels=shelf_percentages.index, autopct='%1.1f%%', startangle=140)\n",
        "plt.title('Bookshelves Distribution')\n",
        "plt.show()\n"
      ],
      "metadata": {
        "id": "58ChFVNrjD5R"
      },
      "execution_count": null,
      "outputs": []
    },
    {
      "cell_type": "code",
      "source": [
        "import seaborn as sns\n",
        "\n",
        "# Year Published sütunundaki değerlerin histogramını oluştur\n",
        "plt.figure(figsize=(12, 6))\n",
        "sns.histplot(goodreads_data['Year Published'].dropna(), bins=range(int(goodreads_data['Year Published'].min()), int(goodreads_data['Year Published'].max()) + 1, 1), kde=False)\n",
        "plt.title('Number of Books Published Each Year')\n",
        "plt.xlabel('Year Published')\n",
        "plt.ylabel('Number of Books')\n",
        "plt.show()\n"
      ],
      "metadata": {
        "id": "FhjiF98wjGfp"
      },
      "execution_count": null,
      "outputs": []
    },
    {
      "cell_type": "code",
      "source": [
        "# Exclusive Shelf sütunundaki değerlerin sayısını hesapla\n",
        "exclusive_shelf_counts = goodreads_data['Exclusive Shelf'].value_counts()\n",
        "\n",
        "# Bar Graph (Çubuk Grafiği)\n",
        "plt.figure(figsize=(12, 6))\n",
        "sns.barplot(x=exclusive_shelf_counts.index, y=exclusive_shelf_counts.values)\n",
        "plt.title('Distribution of Exclusive Shelf Values (Bar Graph)')\n",
        "plt.xlabel('Exclusive Shelf')\n",
        "plt.ylabel('Count')\n",
        "plt.show()\n",
        "\n",
        "# Pie Chart (Pasta Grafiği)\n",
        "plt.figure(figsize=(8, 8))\n",
        "plt.pie(exclusive_shelf_counts, labels=exclusive_shelf_counts.index, autopct='%1.1f%%', startangle=90)\n",
        "plt.title('Distribution of Exclusive Shelf Values (Pie Chart)')\n",
        "plt.show()\n"
      ],
      "metadata": {
        "id": "CEZX7i40j8o4"
      },
      "execution_count": null,
      "outputs": []
    },
    {
      "cell_type": "code",
      "source": [
        "# NaN değerlere 0 ata\n",
        "goodreads_data['Number of Pages'] = goodreads_data['Number of Pages'].fillna(0)\n",
        "\n",
        "# Sayfa sayılarını tam sayıya çevir\n",
        "goodreads_data['Number of Pages'] = goodreads_data['Number of Pages'].astype(int)\n",
        "\n",
        "# Sayfa sayılarına göre histogram oluştur\n",
        "plt.figure(figsize=(12, 6))\n",
        "sns.histplot(goodreads_data['Number of Pages'], bins=range(0, max(goodreads_data['Number of Pages']) + 50, 50), kde=False)\n",
        "plt.title('Distribution of Number of Pages')\n",
        "plt.xlabel('Number of Pages')\n",
        "plt.ylabel('Count')\n",
        "plt.show()\n"
      ],
      "metadata": {
        "id": "UIIpmyQakD_f"
      },
      "execution_count": null,
      "outputs": []
    },
    {
      "cell_type": "code",
      "source": [
        "# Binding sütunundaki NaN değerlere 'Unknown' ata\n",
        "goodreads_data['Binding'] = goodreads_data['Binding'].fillna('Unknown')\n",
        "\n",
        "# Violin Plot çizin\n",
        "plt.figure(figsize=(12, 8))\n",
        "sns.violinplot(x='Binding', y='My Rating', data=goodreads_data)\n",
        "plt.title('Violin Plot of My Rating by Binding')\n",
        "plt.xlabel('Binding')\n",
        "plt.ylabel('My Rating')\n",
        "plt.show()\n"
      ],
      "metadata": {
        "id": "HPIWKzvsp1Hp"
      },
      "execution_count": null,
      "outputs": []
    },
    {
      "cell_type": "code",
      "source": [
        "# Binding sütunundaki NaN değerlere 'Unknown' ata\n",
        "goodreads_data['Binding'] = goodreads_data['Binding'].fillna('Unknown')\n",
        "\n",
        "# Violin Plot çizin\n",
        "plt.figure(figsize=(12, 8))\n",
        "sns.violinplot(x='Binding', y='Average Rating', data=goodreads_data)\n",
        "plt.title('Violin Plot of Average Rating by Binding')\n",
        "plt.xlabel('Binding')\n",
        "plt.ylabel('Average Rating')\n",
        "plt.show()\n"
      ],
      "metadata": {
        "id": "SXl2AXMjp9W3"
      },
      "execution_count": null,
      "outputs": []
    },
    {
      "cell_type": "code",
      "source": [
        "# NaN değerleri temizle\n",
        "ratings_data = goodreads_data[['My Rating', 'Average Rating']].dropna()\n",
        "\n",
        "# Scatter plot çizin\n",
        "plt.figure(figsize=(10, 6))\n",
        "sns.scatterplot(x='My Rating', y='Average Rating', data=ratings_data)\n",
        "plt.title('Scatter Plot between My Rating and Average Rating')\n",
        "plt.xlabel('My Rating')\n",
        "plt.ylabel('Average Rating')\n",
        "plt.show()\n"
      ],
      "metadata": {
        "id": "OfMDliAqqGNr"
      },
      "execution_count": null,
      "outputs": []
    },
    {
      "cell_type": "code",
      "source": [
        "# NaN değerleri temizle\n",
        "ratings_data = goodreads_data[['Number of Pages', 'My Rating']].dropna()\n",
        "\n",
        "plt.figure(figsize=(10, 6))\n",
        "sns.scatterplot(x='Number of Pages', y='My Rating', data=ratings_data)\n",
        "plt.title('Seaborn ile Scatter Plot')\n",
        "plt.xlabel('Number of Pages')\n",
        "plt.ylabel('My Rating')\n",
        "plt.show()\n",
        "\n",
        "\n",
        "# Verileri seç\n",
        "ratings_data = goodreads_data[['Number of Pages', 'My Rating']].dropna()\n",
        "number_of_pages = ratings_data['Number of Pages']\n",
        "my_rating = ratings_data['My Rating']\n",
        "\n",
        "# Matplotlib ile Scatter Plot çizin\n",
        "plt.figure(figsize=(10, 6))\n",
        "plt.scatter(x=number_of_pages, y=my_rating, color='blue')\n",
        "plt.title('Matplotlib ile Scatter Plot')\n",
        "plt.xlabel('Number of Pages')\n",
        "plt.ylabel('My Rating')\n",
        "plt.show()\n"
      ],
      "metadata": {
        "id": "L3TesXgbqM-D"
      },
      "execution_count": null,
      "outputs": []
    },
    {
      "cell_type": "code",
      "source": [
        "\n",
        "print(goodreads_data.head())\n",
        "\n",
        "# Düzenlenmiş verileri başka bir CSV dosyasına yazma\n",
        "goodreads_data.to_csv('duzenlenmis_veriler.csv', index=False)\n"
      ],
      "metadata": {
        "id": "Z-ArhUjLsEQB"
      },
      "execution_count": null,
      "outputs": []
    }
  ]
}